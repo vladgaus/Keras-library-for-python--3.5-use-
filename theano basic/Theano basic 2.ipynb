{
 "cells": [
  {
   "cell_type": "code",
   "execution_count": 2,
   "metadata": {
    "collapsed": true
   },
   "outputs": [],
   "source": [
    "%matplotlib inline\n",
    "import numpy as np\n",
    "np.random.seed(123)\n",
    "\n",
    "import matplotlib.pyplot as plt\n",
    "\n",
    "import theano\n",
    "from theano import tensor as T, function\n",
    "\n",
    "from IPython import display\n",
    "import time"
   ]
  },
  {
   "cell_type": "markdown",
   "metadata": {},
   "source": [
    "# A simple problem"
   ]
  },
  {
   "cell_type": "code",
   "execution_count": 3,
   "metadata": {
    "collapsed": true
   },
   "outputs": [],
   "source": [
    "# noise variance, controls how hard is the problem. The larger, the harder\n",
    "noise_var = .5\n",
    "\n",
    "# number of observations\n",
    "n_samples = 100\n",
    "\n",
    "n = np.random.normal(0, noise_var, n_samples)\n",
    "x = np.arange(n_samples)\n",
    "x = (x - x.mean())/x.std()\n",
    "\n",
    "w, b = np.random.randn(2)\n",
    "d = w*x+b # correct answer\n",
    "y = d+n # noisy observation"
   ]
  },
  {
   "cell_type": "code",
   "execution_count": 5,
   "metadata": {
    "collapsed": false
   },
   "outputs": [
    {
     "data": {
      "text/plain": [
       "<matplotlib.text.Text at 0x5e95d30>"
      ]
     },
     "execution_count": 5,
     "metadata": {},
     "output_type": "execute_result"
    },
    {
     "data": {
      "image/png": "[encoded data removed]",
      "text/plain": [
       "<matplotlib.figure.Figure at 0x5c0e278>"
      ]
     },
     "metadata": {},
     "output_type": "display_data"
    }
   ],
   "source": [
    "plt.plot(x, y, '.')\n",
    "plt.plot(x, d, '-r', linewidth = 2.)\n",
    "plt.legend(('noisy observation', 'desired'))\n",
    "plt.title('input-output map')"
   ]
  },
  {
   "cell_type": "markdown",
   "metadata": {},
   "source": [
    "# Theano model"
   ]
  },
  {
   "cell_type": "code",
   "execution_count": 6,
   "metadata": {
    "collapsed": true
   },
   "outputs": [],
   "source": [
    "X, Y = T.vectors('input', 'desired')\n",
    "W = theano.shared(.01)\n",
    "B = theano.shared(0.)\n",
    "Z = W*X + B\n",
    "Cost = ((Y-Z)**2).mean()\n",
    "params = [W, B] # parameters that should be learned"
   ]
  },
  {
   "cell_type": "markdown",
   "metadata": {},
   "source": [
    "# Changing Theano variables in place"
   ]
  },
  {
   "cell_type": "code",
   "execution_count": 7,
   "metadata": {
    "collapsed": false
   },
   "outputs": [
    {
     "data": {
      "text/plain": [
       "array(0.01)"
      ]
     },
     "execution_count": 7,
     "metadata": {},
     "output_type": "execute_result"
    }
   ],
   "source": [
    "W.get_value()"
   ]
  },
  {
   "cell_type": "code",
   "execution_count": 8,
   "metadata": {
    "collapsed": false
   },
   "outputs": [
    {
     "data": {
      "text/plain": [
       "<TensorType(float64, scalar)>"
      ]
     },
     "execution_count": 8,
     "metadata": {},
     "output_type": "execute_result"
    }
   ],
   "source": [
    "W"
   ]
  },
  {
   "cell_type": "code",
   "execution_count": 9,
   "metadata": {
    "collapsed": true
   },
   "outputs": [],
   "source": [
    "updates = ((W, W*2), )\n",
    "double_w = function([], [], updates = updates)"
   ]
  },
  {
   "cell_type": "code",
   "execution_count": 10,
   "metadata": {
    "collapsed": false
   },
   "outputs": [
    {
     "data": {
      "text/plain": [
       "array(0.02)"
      ]
     },
     "execution_count": 10,
     "metadata": {},
     "output_type": "execute_result"
    }
   ],
   "source": [
    "double_w()\n",
    "W.get_value()"
   ]
  },
  {
   "cell_type": "markdown",
   "metadata": {},
   "source": [
    "# Training the model"
   ]
  },
  {
   "cell_type": "code",
   "execution_count": 11,
   "metadata": {
    "collapsed": false
   },
   "outputs": [
    {
     "name": "stdout",
     "output_type": "stream",
     "text": [
      "[(<TensorType(float64, scalar)>, Elemwise{sub,no_inplace}.0), (<TensorType(float64, scalar)>, Elemwise{sub,no_inplace}.0)]\n"
     ]
    }
   ],
   "source": [
    "# cost = (d-y)**2\n",
    "# updates:\n",
    "# w = w - lr*grad(cost, w) = w + lr*2*(d-y)*x\n",
    "# b = b - lr*grad(cost, b) = b + lr*2*(d-y)\n",
    "\n",
    "lr = .1\n",
    "grads = [T.grad(Cost, p) for p in params]\n",
    "updates = [(p, p-lr*g) for p,g in zip(params, grads)]\n",
    "print(updates)"
   ]
  },
  {
   "cell_type": "code",
   "execution_count": 12,
   "metadata": {
    "collapsed": true
   },
   "outputs": [],
   "source": [
    "train = function([X, Y], Cost, updates = updates)"
   ]
  },
  {
   "cell_type": "code",
   "execution_count": 13,
   "metadata": {
    "collapsed": false
   },
   "outputs": [
    {
     "data": {
      "image/png": "[encoded data removed]",
      "text/plain": [
       "<matplotlib.figure.Figure at 0xa656240>"
      ]
     },
     "metadata": {},
     "output_type": "display_data"
    },
    {
     "data": {
      "image/png": "[encoded data removed]",
      "text/plain": [
       "<matplotlib.figure.Figure at 0xa656240>"
      ]
     },
     "metadata": {},
     "output_type": "display_data"
    }
   ],
   "source": [
    "epochs = 30\n",
    "final_cost = []\n",
    "for i in range(epochs):\n",
    "    # all we need to train model - to call train()\n",
    "    final_cost.append(train(x, y))\n",
    "    \n",
    "    # extra niceties\n",
    "    what, bhat = W.get_value(), B.get_value()\n",
    "    \n",
    "    # cost function\n",
    "    plt.subplot(211)\n",
    "    plt.cla()\n",
    "    plt.title('cost: {}'.format(final_cost[-1]))\n",
    "    plt.plot(final_cost, linewidth = 2.)\n",
    "    \n",
    "    #parameters space\n",
    "    plt.subplot(212)\n",
    "    plt.plot(w, b, '*', linewidth = 2.)\n",
    "    plt.plot(what, bhat, '.r', linewidth = 2.)\n",
    "    plt.xlim([w-.5, w+0.5])\n",
    "    plt.ylim([b-.5, b+0.5])\n",
    "    plt.xlabel('w')\n",
    "    plt.ylabel('b')\n",
    "    \n",
    "    display.clear_output(wait=True)\n",
    "    display.display(plt.gcf())\n",
    "    time.sleep(1.0)"
   ]
  },
  {
   "cell_type": "code",
   "execution_count": 14,
   "metadata": {
    "collapsed": false
   },
   "outputs": [
    {
     "data": {
      "text/plain": [
       "<matplotlib.legend.Legend at 0xaaa59b0>"
      ]
     },
     "execution_count": 14,
     "metadata": {},
     "output_type": "execute_result"
    },
    {
     "data": {
      "image/png": "[encoded data removed]",
      "text/plain": [
       "<matplotlib.figure.Figure at 0xa8d1208>"
      ]
     },
     "metadata": {},
     "output_type": "display_data"
    }
   ],
   "source": [
    "# estimated line\n",
    "plt.title('final result')\n",
    "plt.plot(x, y, '.')\n",
    "plt.plot(x, d, 'r', linewidth = 2.)\n",
    "plt.plot(x, what*x + bhat, 'k', linewidth = 2.)\n",
    "plt.legend(('noisy', 'desired', 'estimated'))"
   ]
  },
  {
   "cell_type": "code",
   "execution_count": null,
   "metadata": {
    "collapsed": true
   },
   "outputs": [],
   "source": []
  }
 ],
 "metadata": {
  "kernelspec": {
   "display_name": "Python 3",
   "language": "python",
   "name": "python3"
  },
  "language_info": {
   "codemirror_mode": {
    "name": "ipython",
    "version": 3
   },
   "file_extension": ".py",
   "mimetype": "text/x-python",
   "name": "python",
   "nbconvert_exporter": "python",
   "pygments_lexer": "ipython3",
   "version": "3.5.1"
  }
 },
 "nbformat": 4,
 "nbformat_minor": 0
}
